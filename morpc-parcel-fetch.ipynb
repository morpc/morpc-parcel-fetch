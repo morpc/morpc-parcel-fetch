{
 "cells": [
  {
   "cell_type": "markdown",
   "id": "6a156b8a-f418-454e-8e32-a26a27c27ea5",
   "metadata": {},
   "source": [
    "## SETUP"
   ]
  },
  {
   "cell_type": "code",
   "execution_count": null,
   "id": "fd28c195-22de-469a-a68c-90f5bb5a0aa6",
   "metadata": {},
   "outputs": [],
   "source": [
    "import os\n",
    "import requests\n",
    "import pyogrio\n",
    "import re\n",
    "import zipfile\n",
    "import io\n",
    "import geopandas as gpd\n",
    "import pandas as pd\n",
    "import xml.etree.ElementTree as ET\n",
    "import random\n",
    "import itables\n",
    "import plotnine\n",
    "from selenium import webdriver\n",
    "from selenium.webdriver.common.keys import Keys\n",
    "from selenium.webdriver.common.by import By\n",
    "\n",
    "sys.path.append(os.path.normpath('../morpc-common/'))\n",
    "import morpc\n",
    "sys.path.append(os.path.normpath('../morpc-parcel-fetch/'))\n",
    "import morpcParcels"
   ]
  },
  {
   "cell_type": "markdown",
   "id": "fb5c0556-830b-4924-a8dc-1a056c2fe47a",
   "metadata": {},
   "source": [
    "## Download Inputs"
   ]
  },
  {
   "cell_type": "markdown",
   "id": "f2f4e23e-1cba-4779-a908-2ab072411a45",
   "metadata": {},
   "source": [
    "## Franklin"
   ]
  },
  {
   "cell_type": "code",
   "execution_count": null,
   "id": "0fb47949-18c1-4c3a-813c-f98146904084",
   "metadata": {},
   "outputs": [],
   "source": [
    "url = 'https://apps.franklincountyauditor.com/GIS_Shapefiles/CurrentExtracts/'"
   ]
  },
  {
   "cell_type": "code",
   "execution_count": null,
   "id": "c2221eca-53a2-4a13-99bc-d55de052da27",
   "metadata": {},
   "outputs": [],
   "source": [
    "r = requests.get(os.path.dirname(url))\n",
    "files = re.findall(r'.zip\">(.*?.zip)<', r.text)\n",
    "for file in files:\n",
    "    if \"GeoDataBase\" in file:\n",
    "        filename = file"
   ]
  },
  {
   "cell_type": "code",
   "execution_count": null,
   "id": "9a2a48f0-0861-40bc-ba77-8f5a86db0a94",
   "metadata": {},
   "outputs": [],
   "source": [
    "morpcParcels.download_and_unzip_archive(url=url, filename=filename, temp_dir='./franklin_data')"
   ]
  },
  {
   "cell_type": "markdown",
   "id": "04a039db-f9f8-4df6-bab5-ec2e06586d01",
   "metadata": {},
   "source": [
    "## Delaware"
   ]
  },
  {
   "cell_type": "code",
   "execution_count": null,
   "id": "dcb2bd7e-0575-4915-b5c5-141fc8020122",
   "metadata": {},
   "outputs": [],
   "source": [
    "url = \"https://services2.arcgis.com/ziXVKVy3BiopMCCU/arcgis/rest/services/Parcel/FeatureServer/0\""
   ]
  },
  {
   "cell_type": "code",
   "execution_count": null,
   "id": "e9bcd6d9-a1fb-463a-ba48-59c5eb2be528",
   "metadata": {
    "scrolled": true
   },
   "outputs": [],
   "source": [
    "delaware_parcels = morpcParcels.gdf_from_services(url = url, fieldIds=[\"CLASS\",\"YRBUILT\",\"ACRES\"])\n",
    "if not os.path.exists('./delaware_data/'):\n",
    "    os.makedirs('./delaware_data/')\n",
    "delaware_parcels.to_file(\"./delaware_data/delaware_parcels.gpkg\", driver='GPKG')"
   ]
  },
  {
   "cell_type": "markdown",
   "id": "a7148f18-35f2-43e3-9c4a-b3cfb02f4ad8",
   "metadata": {},
   "source": [
    "## Union"
   ]
  },
  {
   "cell_type": "code",
   "execution_count": null,
   "id": "91c8c835-229f-49bc-83ad-3be8fc4fc9e2",
   "metadata": {},
   "outputs": [],
   "source": [
    "morpcParcels.download_and_unzip_archive(url='https://www2.co.union.oh.us/EngineerGIS/', filename='Property_Parcels.zip', temp_dir='./union_data')"
   ]
  },
  {
   "cell_type": "markdown",
   "id": "5b09e057-44ca-45ab-9edf-0c294f7ebdc6",
   "metadata": {},
   "source": [
    "## Licking"
   ]
  },
  {
   "cell_type": "code",
   "execution_count": null,
   "id": "c4d850d5-7b36-4636-a761-4476378bd363",
   "metadata": {},
   "outputs": [],
   "source": [
    "morpcParcels.download_and_unzip_archive(url='https://lickingcounty.gov/civicax/filebank/blobdload.aspx?BlobID=106060', temp_dir='./licking_data/')"
   ]
  },
  {
   "cell_type": "markdown",
   "id": "a07d9f79-e37d-493b-b8be-9120ce0eda6f",
   "metadata": {},
   "source": [
    "## Madison"
   ]
  },
  {
   "cell_type": "code",
   "execution_count": null,
   "id": "95592089-fbc2-49c7-91dd-9857b6691683",
   "metadata": {},
   "outputs": [],
   "source": [
    "morpcParcels.download_and_unzip_archive(url = \"http://ftp1.co.madison.oh.us:81/Auditor/Data/GIS/\", filename='parcels.zip', temp_dir='./madison_data/parcels/')"
   ]
  },
  {
   "cell_type": "code",
   "execution_count": null,
   "id": "004ceca3-ca0f-485e-9387-1878749f861e",
   "metadata": {},
   "outputs": [],
   "source": [
    "morpcParcels.download_and_unzip_archive(url='http://madison-public.issg.io/api/Document/', filename='PublicRecordsExtract.zip', temp_dir='./madison_data/cama/', keep_zip=True)"
   ]
  },
  {
   "cell_type": "code",
   "execution_count": null,
   "id": "2ea03a16-108d-4cf7-b58a-3e708ee8f85b",
   "metadata": {},
   "outputs": [],
   "source": [
    "itables.show(morpcParcels.sample_fields_from_zipped_cama(zip_path='./madison_data/cama/PublicRecordsExtract.zip', filename='Parcel Building.xml'))"
   ]
  },
  {
   "cell_type": "markdown",
   "id": "dfcfd7e3-453a-466a-a835-a331de470287",
   "metadata": {},
   "source": [
    "## Pickaway"
   ]
  },
  {
   "cell_type": "code",
   "execution_count": null,
   "id": "1a966c82-5905-40db-b52f-df6c94d11c4f",
   "metadata": {},
   "outputs": [],
   "source": [
    "url = 'https://services6.arcgis.com/FhJ42byMw3LmPYCN/arcgis/rest/services/Parcels_Search/FeatureServer/1/'"
   ]
  },
  {
   "cell_type": "code",
   "execution_count": null,
   "id": "39fbd516-28e8-40a0-b248-ded4a7067e2e",
   "metadata": {},
   "outputs": [],
   "source": [
    "pickaway_parcels = morpcParcels.gdf_from_services(url=url, fieldIds=['PARCELCAMA', 'PPAcres'])"
   ]
  },
  {
   "cell_type": "code",
   "execution_count": null,
   "id": "b5808104-0fdb-4259-a1ff-d308b4eb48b5",
   "metadata": {},
   "outputs": [],
   "source": [
    "if not os.path.exists('./pickaway_data/'):\n",
    "    os.makedirs('./pickaway_data/')\n",
    "pickaway_parcels.to_file(\"./pickaway_data/pickaway_parcels.gpkg\", driver='GPKG')"
   ]
  },
  {
   "cell_type": "markdown",
   "id": "a14292ae-030a-4cae-b80c-d657d24943e8",
   "metadata": {},
   "source": [
    "## Marion"
   ]
  },
  {
   "cell_type": "markdown",
   "id": "4aedd615-e50d-48cf-b272-bd198599393b",
   "metadata": {},
   "source": [
    "## Fairfield"
   ]
  },
  {
   "cell_type": "code",
   "execution_count": null,
   "id": "92ff0473-bed7-493c-a523-5abd617da2d4",
   "metadata": {},
   "outputs": [],
   "source": [
    "morpcParcels.download_and_unzip_archive(url='https://www.co.fairfield.oh.us/gis/Fairfield_Data/', filename='parcels.zip', temp_dir='./fairfield_data/parcels/')"
   ]
  },
  {
   "cell_type": "markdown",
   "id": "4b631c2e-f7db-479a-97c1-cf6bf8914553",
   "metadata": {},
   "source": [
    "## Morrow"
   ]
  },
  {
   "cell_type": "code",
   "execution_count": null,
   "id": "e8a2e426-480b-404a-ae9d-1141df5bd938",
   "metadata": {},
   "outputs": [],
   "source": [
    "morpcParcels.download_and_unzip_archive(url='https://engineer.co.morrow.oh.us/DataDownload/ParcelExport/',filename='Morrow_Parcels.zip', temp_dir='./morrow_data/parcels/')"
   ]
  },
  {
   "cell_type": "code",
   "execution_count": null,
   "id": "ed76e8bf-50ec-4332-b882-99ea456c1023",
   "metadata": {},
   "outputs": [],
   "source": [
    "morpcParcels.download_and_unzip_archive(url='https://share.pivotpoint.us/oh/morrow/cama/', filename='morrowoh.zip', temp_dir='./morrow_data/cama', keep_zip=True)"
   ]
  },
  {
   "cell_type": "code",
   "execution_count": null,
   "id": "d34ede2a-eced-419e-906b-ed68ddbebf1f",
   "metadata": {},
   "outputs": [],
   "source": [
    "morpcParcels.sample_fields_from_zipped_cama(zip_path='./morrow_data/cama/morrowoh.zip', filename='GovernmaxBuildingExtract.txt')"
   ]
  },
  {
   "cell_type": "markdown",
   "id": "59b6176a-f29e-4db8-a0b0-5c9c7d50d282",
   "metadata": {},
   "source": [
    "## Knox"
   ]
  },
  {
   "cell_type": "code",
   "execution_count": null,
   "id": "f075efd8-a576-4238-8c41-a1c0d768a0f9",
   "metadata": {},
   "outputs": [],
   "source": [
    "parcel_url = \"https://co.knox.oh.us/tax-map-and-gis/archive-and-downloads/\"\n",
    "print(f\"Retrieving parcel file name from {parcel_url}\")\n",
    "driver = webdriver.Edge()\n",
    "driver.get(parcel_url)\n",
    "parcel_link = driver.find_element(By.XPATH, \"//html[1]/body[1]/div[2]/section[2]/div[1]/div[1]/div[1]/section[2]/div[1]/div[2]/div[1]/div[2]/div[1]/ul[1]/li[5]/a[1]\")\n",
    "parcel_path = parcel_link.get_attribute('href')\n",
    "driver.close()"
   ]
  },
  {
   "cell_type": "code",
   "execution_count": null,
   "id": "6c87e76e-dc29-4030-9c9d-8ae10bb40466",
   "metadata": {},
   "outputs": [],
   "source": [
    "morpcParcels.download_and_unzip_archive(url='https://co.knox.oh.us/wp-content/uploads/2024/09/', filename='parcels-9-13-24.zip', temp_dir='./knox_data/parcels')"
   ]
  },
  {
   "cell_type": "code",
   "execution_count": null,
   "id": "a6bdb552-b446-4973-a5a4-0b920fe86d9a",
   "metadata": {},
   "outputs": [],
   "source": [
    "knox_parcels = pyogrio.read_dataframe('./knox_data/parcels/parcels.shp', columns=['PIN', 'Acres'])"
   ]
  },
  {
   "cell_type": "code",
   "execution_count": null,
   "id": "98f4031f-1138-4404-ba90-e3a68d08f972",
   "metadata": {},
   "outputs": [],
   "source": [
    "cama_url = \"https://www.knoxcountyauditor.org/site-links/weights-measures/\"\n",
    "print(f\"Retrieving cama file name from {cama_url}\"),\n",
    "driver = webdriver.Edge()\n",
    "driver.get(cama_url)\n",
    "driver.find_element(By.LINK_TEXT, \"REAL ESTATE\").click()\n",
    "cama_link = driver.find_element(By.XPATH, \"//html[1]/body[1]/header[1]/div[1]/div[3]/nav[1]/div[1]/ul[1]/li[2]/div[1]/a[4]\")\n",
    "cama_path = cama_link.get_attribute('href')\n",
    "driver.close()"
   ]
  },
  {
   "cell_type": "code",
   "execution_count": null,
   "id": "f46017be-844f-4f40-ae99-7e3fbe85e1e2",
   "metadata": {},
   "outputs": [],
   "source": [
    "morpcParcels.download_and_unzip_archive(url=cama_path, temp_dir='./knox_data/cama', keep_zip=True)"
   ]
  },
  {
   "cell_type": "markdown",
   "id": "a5293681-493e-4c15-b53f-1cc797c5ef4b",
   "metadata": {},
   "source": [
    "## Logan"
   ]
  },
  {
   "cell_type": "code",
   "execution_count": null,
   "id": "1b04b85a-4ae9-419b-ba85-9e0a7c908c08",
   "metadata": {},
   "outputs": [],
   "source": [
    "logan_parcels = morpcParcels.gdf_from_services('https://services9.arcgis.com/mFxO7gBbusFBQ5o9/ArcGIS/rest/services/Logan_County_Parcels/FeatureServer/12', fieldIds=['Parcel_Num', 'Land_Use_C', 'Acres'])"
   ]
  },
  {
   "cell_type": "code",
   "execution_count": null,
   "id": "ab024030-49b9-469e-9abc-f87307e3516c",
   "metadata": {},
   "outputs": [],
   "source": [
    "if not os.path.exists('./logan_data/'):\n",
    "    os.makedirs('./logan_data/')\n",
    "logan_parcels.to_file(\"./logan_data/logan_parcels.gpkg\", driver='GPKG')"
   ]
  },
  {
   "cell_type": "code",
   "execution_count": null,
   "id": "82383743-d52f-4bb0-997d-19cadd3217af",
   "metadata": {},
   "outputs": [],
   "source": [
    "morpcParcels.download_and_unzip_archive('https://realestate.co.logan.oh.us/api/Document/', filename='PublicRecordsExcel.zip', temp_dir='./logan_data/cama/', keep_zip=True)"
   ]
  },
  {
   "cell_type": "markdown",
   "id": "bc986077-789c-40e3-a5ee-b1d5c4cdd00a",
   "metadata": {},
   "source": [
    "## Ross"
   ]
  },
  {
   "cell_type": "code",
   "execution_count": null,
   "id": "3bfa24cf-7b0b-4436-b1c3-dd6a2a1ce556",
   "metadata": {},
   "outputs": [],
   "source": [
    "ross_parcels = morpcParcels.gdf_from_services('https://services7.arcgis.com/IQSUQhVBDHAkRlWe/ArcGIS/rest/services/parcel_joined/FeatureServer/0')"
   ]
  },
  {
   "cell_type": "code",
   "execution_count": null,
   "id": "d6b4d9a3-fdec-4ba8-bcde-524efe9d8fbb",
   "metadata": {},
   "outputs": [],
   "source": [
    "if not os.path.exists('./ross_data/'):\n",
    "    os.makedirs('./ross_data/')\n",
    "ross_parcels.to_file(\"./ross_data/ross_parcels.gpkg\", driver='GPKG')"
   ]
  },
  {
   "cell_type": "markdown",
   "id": "db0e0ed5-2ef3-4233-a13f-0fae63c1df62",
   "metadata": {},
   "source": [
    "## Perry"
   ]
  },
  {
   "cell_type": "code",
   "execution_count": null,
   "id": "c7ea27e5-1d36-4bcd-9b67-500a9757073a",
   "metadata": {},
   "outputs": [],
   "source": [
    "morpcParcels.download_and_unzip_archive(url='https://pceopublic.s3.us-east-2.amazonaws.com/GISFiles/', filename='PCEOParcels.zip', temp_dir='./perry_data/parcel', keep_zip=True)\n",
    "# morpcParcels.download_and_unzip_archive(url='https://ftpro.accuglobe.schneidergis.com/PerryOH/', filename='PerryWebExtract.zip', temp_dir='./perry_data/cama', keep_zip=True)"
   ]
  },
  {
   "cell_type": "markdown",
   "id": "244e4888-00b6-49fe-bd31-56472ffceb4c",
   "metadata": {},
   "source": [
    "## Read and shape inputs"
   ]
  },
  {
   "cell_type": "code",
   "execution_count": null,
   "id": "5778544b-e25d-44e8-98fd-ded5798c1354",
   "metadata": {},
   "outputs": [],
   "source": [
    "franklin_parcels = pyogrio.read_dataframe('./franklin_data/Output/FCA_SDE_Web_Prod.gdb/', layer='TaxParcel_CondoUnitStack_LGIM')\n",
    "franklin_parcels = franklin_parcels.rename(columns = {'PARCELID':'parcel_id','ACRES':'acres','CLASSCD':'land_use','RESYRBLT':'year_built'}).set_index('parcel_id')\n",
    "franklin_parcels = franklin_parcels[['acres', 'land_use', 'year_built', 'geometry']]\n",
    "franklin_parcels = franklin_parcels.to_crs('3735')\n",
    "franklin_parcels['county'] = 'Franklin'"
   ]
  },
  {
   "cell_type": "code",
   "execution_count": null,
   "id": "01b49750-3739-4966-a9a7-62e4f60deed2",
   "metadata": {},
   "outputs": [],
   "source": [
    "delaware_parcels = pyogrio.read_dataframe('./delaware_data/delaware_parcels.gpkg')\n",
    "delaware_parcels = delaware_parcels.rename(columns = {'ACRES':'acres','CLASS':'land_use','YRBUILT':'year_built'})\n",
    "delaware_parcels = delaware_parcels[['acres', 'land_use', 'year_built', 'geometry']]\n",
    "delaware_parcels = delaware_parcels.to_crs('3735')\n",
    "delaware_parcels['county'] = 'Delaware'"
   ]
  },
  {
   "cell_type": "code",
   "execution_count": null,
   "id": "b3d265c3-1afb-4179-989a-36ae14581bd0",
   "metadata": {},
   "outputs": [],
   "source": [
    "union_parcels = pyogrio.read_dataframe('union_data/temp/Property_Parcels.shp', columns=['GISNO', 'CAMANO', 'ClassNumbe', 'Total_Acre'])\n",
    "union_parcels = union_parcels.rename(columns = {'GISNO':'parcel_id','Total_Acre':'acres','ClassNumbe':'land_use'}).set_index('parcel_id')\n",
    "union_parcels = union_parcels[['acres', 'land_use', 'geometry']]\n",
    "union_parcels = union_parcels.to_crs('3735')\n",
    "union_parcels['county'] = 'Union'"
   ]
  },
  {
   "cell_type": "code",
   "execution_count": null,
   "id": "a5abf213-f026-4e6f-9751-4539ac709e0c",
   "metadata": {},
   "outputs": [],
   "source": [
    "licking_parcels = pyogrio.read_dataframe('./licking_data/PARCELS.shp', columns=['AUD_PIN', 'TAX_ACRE'])\n",
    "licking_parcels = licking_parcels.rename(columns = {'AUD_PIN':'parcel_id','TAX_ACRE':'acres'}).set_index('parcel_id')\n",
    "licking_parcels = licking_parcels[['acres', 'geometry']]\n",
    "licking_parcels = licking_parcels.to_crs('3735')\n",
    "licking_parcels['county'] = 'Licking'"
   ]
  },
  {
   "cell_type": "code",
   "execution_count": null,
   "id": "89a61174-6bbd-4700-9408-3daab615fd0a",
   "metadata": {},
   "outputs": [],
   "source": [
    "madison_parcels = gpd.read_file('./madison_data/parcels/parcels.shp')\n",
    "madison_parcels = madison_parcels[['TAXPIN', 'geometry']].set_index('TAXPIN')\n",
    "luc_val = morpcParcels.extract_fields_from_cama(zip_path='./madison_data/cama/PublicRecordsExtract.zip', filename='Parcel Value.xml', columns=['Parcel_Number', 'Land_Use_Code']).set_index('Parcel_Number')\n",
    "luc_tax = morpcParcels.extract_fields_from_cama(zip_path='./madison_data/cama/PublicRecordsExtract.zip', filename='Parcel Tax.xml', columns=['Parcel_Number', 'Land_Use_Code']).set_index('Parcel_Number')\n",
    "luc_app = morpcParcels.extract_fields_from_cama(zip_path='./madison_data/cama/PublicRecordsExtract.zip', filename='Parcel Appraisal.xml', columns=['Parcel_Number', 'Land_Use_Code']).set_index('Parcel_Number')\n",
    "luc_dis = morpcParcels.extract_fields_from_cama(zip_path='./madison_data/cama/PublicRecordsExtract.zip', filename='Parcel Distribution.xml', columns=['Parcel_Number', 'Land_Use_Code']).set_index('Parcel_Number')\n",
    "land_use = pd.concat([luc_val, luc_tax, luc_app, luc_dis]).dropna()\n",
    "year_build = morpcParcels.extract_fields_from_cama(zip_path='./madison_data/cama/PublicRecordsExtract.zip', filename='Parcel Building.xml', columns=['Parcel_Number', 'Year_Built']).set_index('Parcel_Number')\n",
    "year_dwell = morpcParcels.extract_fields_from_cama(zip_path='./madison_data/cama/PublicRecordsExtract.zip', filename='Parcel Dwelling.xml', columns=['Parcel_Number', 'Year_Built']).set_index('Parcel_Number')\n",
    "year_built = pd.concat([year_build, year_dwell]).dropna()\n",
    "acres = morpcParcels.extract_fields_from_cama(zip_path='./madison_data/cama/PublicRecordsExtract.zip', filename='Parcel.xml', columns=['Parcel_Number', 'Acres']).set_index('Parcel_Number')\n",
    "madison_parcels = madison_parcels.join([land_use, year_built, acres])\n",
    "madison_parcels = madison_parcels.rename(columns = {'Acres':'acres','Land_Use_Code':'land_use','Year_Built':'year_built'})\n",
    "madison_parcels = madison_parcels[['acres', 'land_use', 'year_built', 'geometry']]\n",
    "madison_parcels = madison_parcels.to_crs('3735')\n",
    "madison_parcels['county'] = 'Madison'"
   ]
  },
  {
   "cell_type": "code",
   "execution_count": null,
   "id": "16d4029a-c919-4b28-bc51-bfdad5ea4544",
   "metadata": {},
   "outputs": [],
   "source": [
    "pickaway_parcels = gpd.read_file(\"./pickaway_data/pickaway_parcels.gpkg\")\n",
    "pickaway_parcels = pickaway_parcels.rename(columns = {'PARCELCAMA':'parcel_id', 'PPAcres':'acres'}).set_index('parcel_id')\n",
    "pickaway_parcels = pickaway_parcels[['acres', 'geometry']]\n",
    "pickaway_parcels = pickaway_parcels.to_crs('3735')\n",
    "pickaway_parcels['county'] = 'Pickaway'"
   ]
  },
  {
   "cell_type": "code",
   "execution_count": null,
   "id": "011e2a56-b616-49c5-a5ea-6fe78cfc2a62",
   "metadata": {},
   "outputs": [],
   "source": [
    "fairfield_parcels = pyogrio.read_dataframe('./fairfield_data/parcels/parcels.shp', columns=['ACRES', 'LUC', 'YRBLT'])\n",
    "fairfield_parcels = fairfield_parcels.rename(columns = {'ACRES':'acres','LUC':'land_use','YRBLT':'year_built'})\n",
    "fairfield_parcels = fairfield_parcels[['acres', 'land_use', 'year_built', 'geometry']]\n",
    "fairfield_parcels = fairfield_parcels.to_crs('3735')\n",
    "fairfield_parcels['county'] = 'Fairfield'"
   ]
  },
  {
   "cell_type": "code",
   "execution_count": null,
   "id": "e578aca1-0bad-4574-a7ac-13c888f3882b",
   "metadata": {},
   "outputs": [],
   "source": [
    "morrow_parcels = pyogrio.read_dataframe('./morrow_data/parcels/Morrow_Parcels.shp').set_index('Name')\n",
    "morrow_building = morpcParcels.extract_fields_from_cama(zip_path='./morrow_data/cama/morrowoh.zip', filename='GovernmaxBuildingExtract.txt', columns=['PropertyNumber', 'UseCode', 'YearBuilt']).set_index('PropertyNumber')\n",
    "morrow_dwelling = morpcParcels.extract_fields_from_cama(zip_path='./morrow_data/cama/morrowoh.zip', filename='GovernmaxDwellingExtract.txt', columns=['PropertyNumber', 'UseCode', 'YearBuilt']).set_index('PropertyNumber')\n",
    "morrow_dwelling = morrow_dwelling.join(morrow_parcels[['geometry', 'A_Acreage']]).dropna()\n",
    "morrow_building = morrow_building.join(morrow_parcels[['geometry', 'A_Acreage']]).dropna()\n",
    "morrow_parcels = pd.concat([morrow_dwelling, morrow_building])\n",
    "morrow_parcels = morrow_parcels.rename(columns = {'A_Acreage':'acres','UseCode':'land_use','YearBuilt':'year_built'})\n",
    "morrow_parcels = morrow_parcels[['acres', 'land_use', 'year_built', 'geometry']]\n",
    "morrow_parcels = gpd.GeoDataFrame(morrow_parcels, geometry='geometry').to_crs('3735')\n",
    "morrow_parcels['county'] = 'Morrow'"
   ]
  },
  {
   "cell_type": "code",
   "execution_count": null,
   "id": "6c1f0532-4345-4d6a-b5c2-5a440fb614f2",
   "metadata": {},
   "outputs": [],
   "source": [
    "knox_cama = morpcParcels.extract_fields_from_cama('./knox_data/cama/no_filename.zip', filename='MVP1_OH_TransferHistory.txt', columns=['SourceParcel','YearBuilt', 'UseCode'])\n",
    "knox_cama['SourceParcel'] = [re.sub('[^0-9]', '', x) for x in knox_cama['SourceParcel']]\n",
    "knox_cama['UseCode'] = [re.split(' ', str(x))[0] for x in knox_cama['UseCode']]\n",
    "knox_cama = knox_cama.set_index('SourceParcel')\n",
    "knox_parcels = pyogrio.read_dataframe('./knox_data/parcels/parcels.shp').set_index('PIN')\n",
    "knox_parcels = knox_cama.join(knox_parcels[['geometry', 'Acres']])\n",
    "knox_parcels = knox_parcels.rename(columns = {'Acres':'acres','UseCode':'land_use','YearBuilt':'year_built'})\n",
    "knox_parcels = knox_parcels[['acres', 'land_use', 'year_built', 'geometry']]\n",
    "knox_parcels = gpd.GeoDataFrame(knox_parcels, geometry='geometry').to_crs('3735')\n",
    "knox_parcels['county'] = 'Knox'"
   ]
  },
  {
   "cell_type": "code",
   "execution_count": null,
   "id": "271b7178-0954-4d00-9743-f2f1a6182e3a",
   "metadata": {},
   "outputs": [],
   "source": [
    "logan_parcels = gpd.read_file(\"./logan_data/logan_parcels.gpkg\")\n",
    "year_dwell = morpcParcels.extract_fields_from_cama(zip_path='./logan_data/cama/PublicRecordsExcel.zip', filename='Parcel Dwelling.xlsx',columns=['Parcel Number', 'Year Built']).set_index('Parcel Number')\n",
    "year_build = morpcParcels.extract_fields_from_cama(zip_path='./logan_data/cama/PublicRecordsExcel.zip', filename='Parcel Building.xlsx',columns=['Parcel Number', 'Year Built']).set_index('Parcel Number')\n",
    "year_built = pd.concat([year_build, year_dwell]).dropna()\n",
    "land_use = morpcParcels.extract_fields_from_cama(zip_path='./logan_data/cama/PublicRecordsExcel.zip', filename='Parcel Appraisal.xlsx',columns=['Parcel Number', 'Land Use Code']).set_index('Parcel Number')\n",
    "logan_cama = land_use.join(year_built, how='outer').dropna()\n",
    "acres = morpcParcels.extract_fields_from_cama(zip_path='./logan_data/cama/PublicRecordsExcel.zip', filename='Parcel.xlsx', columns=['Parcel Number', 'Acres']).set_index('Parcel Number')\n",
    "logan_cama = logan_cama.join(acres)\n",
    "logan_parcels = logan_cama.join(logan_parcels.set_index('Parcel_Num')[['geometry']])\n",
    "logan_parcels = logan_parcels.rename(columns = {'Acres':'acres','Land Use Code':'land_use','Year Built':'year_built'})\n",
    "logan_parcels = logan_parcels[['acres', 'land_use', 'year_built', 'geometry']]\n",
    "logan_parcels['land_use'] = [str(x) for x in logan_parcels['land_use']]\n",
    "logan_parcels = gpd.GeoDataFrame(logan_parcels, geometry='geometry').to_crs('3735')\n",
    "logan_parcels['county'] = 'Logan'"
   ]
  },
  {
   "cell_type": "code",
   "execution_count": null,
   "id": "ddb4c611-d9a5-4049-81c6-df76ec9055b1",
   "metadata": {},
   "outputs": [],
   "source": [
    "ross_parcels = gpd.read_file('./ross_data/ross_parcels.gpkg')\n",
    "ross_parcels = ross_parcels[['PARCEL_NO', 'PPYearBuilt', 'PPClassNumber', 'PPAcres', 'geometry']]\n",
    "ross_parcels = ross_parcels.rename(columns = {'PARCEL_NO':'parcel_id','PPYearBuilt':'year_built','PPClassNumber':'land_use','PPAcres':'acres'}).set_index('parcel_id')\n",
    "ross_parcels = ross_parcels[['acres', 'land_use', 'year_built', 'geometry']]\n",
    "ross_parcels['land_use'] = [str(x) for x in ross_parcels['land_use']]\n",
    "ross_parcels['year_built'] = [re.split('\\|', str(x))[0] for x in ross_parcels['year_built']]\n",
    "ross_parcels = ross_parcels.to_crs('3735')\n",
    "ross_parcels['county'] = 'Ross'"
   ]
  },
  {
   "cell_type": "code",
   "execution_count": null,
   "id": "de7d433c-fba4-4b95-aac5-f755f78e72d1",
   "metadata": {},
   "outputs": [],
   "source": [
    "perry_parcels = gpd.read_file('./perry_data/parcel/PCEOParcels.shp')\n",
    "perry_parcels = perry_parcels[['Name', 'Total_Acre', 'Class_Numb', 'geometry']]"
   ]
  },
  {
   "cell_type": "code",
   "execution_count": null,
   "id": "67c596e7-840f-48cc-86f0-9daeae02e7e8",
   "metadata": {},
   "outputs": [],
   "source": [
    "all_parcels = pd.concat([franklin_parcels, delaware_parcels, madison_parcels, fairfield_parcels, morrow_parcels, knox_parcels, logan_parcels, ross_parcels])"
   ]
  },
  {
   "cell_type": "code",
   "execution_count": null,
   "id": "c685c293-cca1-4f5a-b077-d244a941f032",
   "metadata": {},
   "outputs": [],
   "source": [
    "landuse_filter = ['401', '402', '403', '511', '512', '513', '514', '515', '520', '521', '522', '523', '524', '525', '530', '531', '532', '533', '534', '534', '535', '540', '550']"
   ]
  },
  {
   "cell_type": "code",
   "execution_count": null,
   "id": "388d710e-4a0f-4822-86ba-f3604857057c",
   "metadata": {},
   "outputs": [],
   "source": [
    "all_parcels['year_built'] = [pd.to_numeric(x, errors='coerce') for x in all_parcels['year_built']]\n",
    "all_parcels['year_built'] = all_parcels['year_built'].replace(0, None)"
   ]
  },
  {
   "cell_type": "code",
   "execution_count": null,
   "id": "81a8d660-4ead-4414-b770-62ae0067eea7",
   "metadata": {},
   "outputs": [],
   "source": [
    "all_parcels['acres'] = pd.to_numeric(all_parcels['acres'])\n",
    "all_parcels = all_parcels.loc[all_parcels['land_use'].isin(landuse_filter)]\n",
    "all_parcels = all_parcels.loc[all_parcels['year_built'].isin([x for x in range(1700,2024)])]"
   ]
  },
  {
   "cell_type": "code",
   "execution_count": null,
   "id": "ec4e5d64-f94b-4f5a-ad02-a7d286018001",
   "metadata": {
    "lines_to_next_cell": 2
   },
   "outputs": [],
   "source": [
    "all_parcels.loc[(all_parcels['acres'] > .75 )& (all_parcels['land_use'].str.startswith('51')), 'housing_unit_type'] = \"SF-LL\"\n",
    "all_parcels.loc[(all_parcels['acres'] <= .75) & (all_parcels['land_use'].str.startswith('51')), 'housing_unit_type'] = \"SF-SL\"\n",
    "all_parcels.loc[all_parcels['land_use'].str.startswith(('52', '53', '54', '55')), 'housing_unit_type'] = \"SF-A\"\n",
    "all_parcels.loc[all_parcels['land_use'].str.startswith('4'), 'housing_unit_type'] = \"MF\""
   ]
  },
  {
   "cell_type": "code",
   "execution_count": null,
   "id": "7316dd20-7044-4ea9-b591-82b761c049a9",
   "metadata": {},
   "outputs": [],
   "source": [
    "all_parcels.plot()"
   ]
  },
  {
   "cell_type": "code",
   "execution_count": null,
   "id": "2d68b237-3bcc-48c2-8cfa-a1baf81cbebe",
   "metadata": {},
   "outputs": [],
   "source": [
    "all_parcels['geometry'] = all_parcels['geometry'].copy().centroid"
   ]
  },
  {
   "cell_type": "code",
   "execution_count": null,
   "id": "65e9b30f-b943-4eb3-9844-3759585be5dd",
   "metadata": {},
   "outputs": [],
   "source": [
    "COUNTIES_FEATURECLASS_SOURCE_URL = \"https://www2.census.gov/geo/tiger/GENZ2020/shp/cb_2020_us_county_500k.zip\""
   ]
  },
  {
   "cell_type": "code",
   "execution_count": null,
   "id": "2da4d930-b044-46e9-8029-32a12112ef76",
   "metadata": {},
   "outputs": [],
   "source": [
    "morpcCounties = morpc.countyLookup()"
   ]
  },
  {
   "cell_type": "code",
   "execution_count": null,
   "id": "94ce15f1-7a53-4fb7-a9ee-2bb9865da69b",
   "metadata": {},
   "outputs": [],
   "source": [
    "countiesRaw = gpd.read_file(COUNTIES_FEATURECLASS_SOURCE_URL)"
   ]
  },
  {
   "cell_type": "code",
   "execution_count": null,
   "id": "c8879c56-964c-4f37-84da-47953f295ee2",
   "metadata": {},
   "outputs": [],
   "source": [
    "counties = countiesRaw.copy()\n",
    "counties = counties \\\n",
    "    .filter(items=[\"GEOID\", \"NAME\", \"geometry\"], axis=\"columns\") \\\n",
    "    .astype({\n",
    "        \"GEOID\":\"string\",\n",
    "        \"NAME\":\"string\"\n",
    "    }) \\\n",
    "    .set_index(\"GEOID\") \\\n",
    "    .loc[[morpcCounties.get_id(x) for x in morpc.CONST_REGIONS[\"15-County Region\"]]]\n",
    "counties.head()"
   ]
  },
  {
   "cell_type": "code",
   "execution_count": null,
   "id": "03d58d7f-b903-4e4b-b5e8-879801f7608f",
   "metadata": {},
   "outputs": [],
   "source": [
    "if(counties.crs.to_epsg() != 3735):\n",
    "    print(\"Reprojecting from EPSG:{} to EPSG:3735\".format(counties.crs.to_epsg()))\n",
    "    counties = counties.to_crs(epsg=3735)"
   ]
  },
  {
   "cell_type": "code",
   "execution_count": null,
   "id": "9975d452-cdc1-4897-95c4-53f90ea59570",
   "metadata": {},
   "outputs": [],
   "source": [
    "county_labels = counties.copy()\n",
    "county_labels['x'] = counties['geometry'].centroid.get_coordinates()['x']\n",
    "county_labels['y'] = counties['geometry'].centroid.get_coordinates()['y']\n",
    "county_labels = county_labels[['NAME','x','y']]"
   ]
  },
  {
   "cell_type": "code",
   "execution_count": null,
   "id": "9fac2221-baca-4802-868c-78b7782b6068",
   "metadata": {},
   "outputs": [],
   "source": [
    "(plotnine.ggplot()\n",
    "    + plotnine.geom_map(counties, color='white', fill='lightgrey')\n",
    "    + plotnine.geom_map(all_parcels, plotnine.aes(fill='housing_unit_type'), color = None)\n",
    "    + plotnine.geom_text(county_labels, plotnine.aes(label = 'NAME', x = 'x', y = 'y'))\n",
    "    + plotnine.theme(\n",
    "        panel_background=plotnine.element_blank(),\n",
    "        axis_text=plotnine.element_blank(),\n",
    "        axis_ticks=plotnine.element_blank(),\n",
    "        axis_title=plotnine.element_blank(),\n",
    "        figure_size=(12,10)\n",
    "    )\n",
    "    + plotnine.scale_fill_brewer(type='qual', palette=2)\n",
    ")"
   ]
  },
  {
   "cell_type": "code",
   "execution_count": null,
   "id": "9dd8e7b7-cd80-4678-b8c2-11aa21709059",
   "metadata": {},
   "outputs": [],
   "source": [
    "pd.DataFrame(all_parcels.groupby('county').count()['housing_unit_type'])"
   ]
  },
  {
   "cell_type": "code",
   "execution_count": null,
   "id": "4f1ad1e5-83f3-4f95-a18b-32e8aad49c68",
   "metadata": {},
   "outputs": [],
   "source": []
  },
  {
   "cell_type": "code",
   "execution_count": null,
   "id": "8b891af7-2319-411a-aed4-3ac1de7cfefa",
   "metadata": {},
   "outputs": [],
   "source": [
    "(pd.DataFrame(all_parcels.loc[all_parcels['year_built']\n",
    "              .isin([x for x in range(2019,2024)])][['county', 'housing_unit_type', 'year_built']]\n",
    "              .groupby(['county','housing_unit_type', 'year_built'])\n",
    "              .size()\n",
    "             )\n",
    " .rename(columns = {0:'total'})\n",
    ")"
   ]
  },
  {
   "cell_type": "code",
   "execution_count": null,
   "id": "9e2af095-e566-4b77-aaa3-0f19ebf09567",
   "metadata": {},
   "outputs": [],
   "source": [
    "all_parcels.loc[all_parcels['acres']>0, 'acres'].describe()"
   ]
  },
  {
   "cell_type": "code",
   "execution_count": null,
   "id": "eaa2e1da-9545-42ce-9cb6-c558a1b3f578",
   "metadata": {},
   "outputs": [],
   "source": [
    "all_parcels.loc[all_parcels['acres']>0][['county', 'acres']].groupby('county').agg('describe')"
   ]
  },
  {
   "cell_type": "code",
   "execution_count": null,
   "id": "2d93db49-bc41-4ddb-86c9-58710ec95cde",
   "metadata": {},
   "outputs": [],
   "source": [
    "all_parcels[['county', 'year_built']].groupby('county').agg('describe')"
   ]
  },
  {
   "cell_type": "code",
   "execution_count": null,
   "id": "c04507ac-21ed-4903-81b8-1d52fc40f90e",
   "metadata": {},
   "outputs": [],
   "source": []
  }
 ],
 "metadata": {
  "jupytext": {
   "formats": "ipynb,py:percent"
  },
  "kernelspec": {
   "display_name": "Python 3 (ipykernel)",
   "language": "python",
   "name": "python3"
  },
  "language_info": {
   "codemirror_mode": {
    "name": "ipython",
    "version": 3
   },
   "file_extension": ".py",
   "mimetype": "text/x-python",
   "name": "python",
   "nbconvert_exporter": "python",
   "pygments_lexer": "ipython3",
   "version": "3.11.7"
  }
 },
 "nbformat": 4,
 "nbformat_minor": 5
}
