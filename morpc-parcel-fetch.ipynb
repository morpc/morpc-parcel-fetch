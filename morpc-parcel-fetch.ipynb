{
 "cells": [
  {
   "cell_type": "code",
   "execution_count": 1,
   "id": "fd28c195-22de-469a-a68c-90f5bb5a0aa6",
   "metadata": {},
   "outputs": [],
   "source": [
    "import os\n",
    "import requests\n",
    "sys.path.append(os.path.normpath('../morpc-parcel-fetch/'))\n",
    "import morpcParcels"
   ]
  },
  {
   "cell_type": "code",
   "execution_count": 2,
   "id": "ff3b9f4b-f9d2-4f51-b80b-416cb8b71269",
   "metadata": {},
   "outputs": [],
   "source": [
    "parcel_urls = {\n",
    "    \"Delaware\":\"https://services2.arcgis.com/ziXVKVy3BiopMCCU/arcgis/rest/services/Parcel/FeatureServer/0\",\n",
    "    \"Pickaway\":\"https://services6.arcgis.com/FhJ42byMw3LmPYCN/arcgis/rest/services/Parcels_Search/FeatureServer/1\",\n",
    "    \"Logan\":\"https://services9.arcgis.com/mFxO7gBbusFBQ5o9/ArcGIS/rest/services/Logan_County_Parcels/FeatureServer/12\",\n",
    "    \"Ross\":\"https://services7.arcgis.com/IQSUQhVBDHAkRlWe/ArcGIS/rest/services/parcel_joined/FeatureServer/0\"\n",
    "}"
   ]
  },
  {
   "cell_type": "code",
   "execution_count": 3,
   "id": "e9bcd6d9-a1fb-463a-ba48-59c5eb2be528",
   "metadata": {
    "scrolled": true
   },
   "outputs": [
    {
     "name": "stdout",
     "output_type": "stream",
     "text": [
      "https://services2.arcgis.com/ziXVKVy3BiopMCCU/arcgis/rest/services/Parcel/FeatureServer/0/query?outFields=CLASS,YRBUILT,ACRES&where=1%3D1&f=geojson\n"
     ]
    },
    {
     "name": "stderr",
     "output_type": "stream",
     "text": [
      "Downloading from GeoJSON...: 100000it [01:49, 911.61it/s]                                                              \n"
     ]
    },
    {
     "data": {
      "text/html": [
       "<div>\n",
       "<style scoped>\n",
       "    .dataframe tbody tr th:only-of-type {\n",
       "        vertical-align: middle;\n",
       "    }\n",
       "\n",
       "    .dataframe tbody tr th {\n",
       "        vertical-align: top;\n",
       "    }\n",
       "\n",
       "    .dataframe thead th {\n",
       "        text-align: right;\n",
       "    }\n",
       "</style>\n",
       "<table border=\"1\" class=\"dataframe\">\n",
       "  <thead>\n",
       "    <tr style=\"text-align: right;\">\n",
       "      <th></th>\n",
       "      <th>geometry</th>\n",
       "      <th>CLASS</th>\n",
       "      <th>YRBUILT</th>\n",
       "      <th>ACRES</th>\n",
       "    </tr>\n",
       "  </thead>\n",
       "  <tbody>\n",
       "    <tr>\n",
       "      <th>0</th>\n",
       "      <td>POLYGON ((-83.19830 40.44092, -83.20534 40.441...</td>\n",
       "      <td>501</td>\n",
       "      <td>0</td>\n",
       "      <td>3.966</td>\n",
       "    </tr>\n",
       "    <tr>\n",
       "      <th>1</th>\n",
       "      <td>POLYGON ((-83.19211 40.44038, -83.19404 40.440...</td>\n",
       "      <td>501</td>\n",
       "      <td>0</td>\n",
       "      <td>0.850</td>\n",
       "    </tr>\n",
       "    <tr>\n",
       "      <th>2</th>\n",
       "      <td>POLYGON ((-83.19411 40.43999, -83.19413 40.439...</td>\n",
       "      <td>511</td>\n",
       "      <td>1987</td>\n",
       "      <td>1.898</td>\n",
       "    </tr>\n",
       "    <tr>\n",
       "      <th>3</th>\n",
       "      <td>POLYGON ((-83.19288 40.43941, -83.19421 40.439...</td>\n",
       "      <td>511</td>\n",
       "      <td>1950</td>\n",
       "      <td>2.280</td>\n",
       "    </tr>\n",
       "    <tr>\n",
       "      <th>4</th>\n",
       "      <td>POLYGON ((-83.19582 40.44010, -83.19576 40.440...</td>\n",
       "      <td>511</td>\n",
       "      <td>2015</td>\n",
       "      <td>1.492</td>\n",
       "    </tr>\n",
       "    <tr>\n",
       "      <th>...</th>\n",
       "      <td>...</td>\n",
       "      <td>...</td>\n",
       "      <td>...</td>\n",
       "      <td>...</td>\n",
       "    </tr>\n",
       "    <tr>\n",
       "      <th>83</th>\n",
       "      <td>POLYGON ((-83.14948 40.38082, -83.14959 40.380...</td>\n",
       "      <td>455</td>\n",
       "      <td>1920</td>\n",
       "      <td>0.530</td>\n",
       "    </tr>\n",
       "    <tr>\n",
       "      <th>84</th>\n",
       "      <td>POLYGON ((-83.14865 40.37766, -83.14876 40.377...</td>\n",
       "      <td>499</td>\n",
       "      <td>1996</td>\n",
       "      <td>5.869</td>\n",
       "    </tr>\n",
       "    <tr>\n",
       "      <th>85</th>\n",
       "      <td>POLYGON ((-83.14865 40.37766, -83.14876 40.377...</td>\n",
       "      <td>499</td>\n",
       "      <td>1997</td>\n",
       "      <td>5.869</td>\n",
       "    </tr>\n",
       "    <tr>\n",
       "      <th>86</th>\n",
       "      <td>POLYGON ((-83.14903 40.38385, -83.14926 40.383...</td>\n",
       "      <td>499</td>\n",
       "      <td>1920</td>\n",
       "      <td>0.000</td>\n",
       "    </tr>\n",
       "    <tr>\n",
       "      <th>87</th>\n",
       "      <td>POLYGON ((-83.13475 40.38506, -83.13482 40.385...</td>\n",
       "      <td>390</td>\n",
       "      <td>1972</td>\n",
       "      <td>0.540</td>\n",
       "    </tr>\n",
       "  </tbody>\n",
       "</table>\n",
       "<p>98088 rows × 4 columns</p>\n",
       "</div>"
      ],
      "text/plain": [
       "                                             geometry CLASS  YRBUILT  ACRES\n",
       "0   POLYGON ((-83.19830 40.44092, -83.20534 40.441...   501        0  3.966\n",
       "1   POLYGON ((-83.19211 40.44038, -83.19404 40.440...   501        0  0.850\n",
       "2   POLYGON ((-83.19411 40.43999, -83.19413 40.439...   511     1987  1.898\n",
       "3   POLYGON ((-83.19288 40.43941, -83.19421 40.439...   511     1950  2.280\n",
       "4   POLYGON ((-83.19582 40.44010, -83.19576 40.440...   511     2015  1.492\n",
       "..                                                ...   ...      ...    ...\n",
       "83  POLYGON ((-83.14948 40.38082, -83.14959 40.380...   455     1920  0.530\n",
       "84  POLYGON ((-83.14865 40.37766, -83.14876 40.377...   499     1996  5.869\n",
       "85  POLYGON ((-83.14865 40.37766, -83.14876 40.377...   499     1997  5.869\n",
       "86  POLYGON ((-83.14903 40.38385, -83.14926 40.383...   499     1920  0.000\n",
       "87  POLYGON ((-83.13475 40.38506, -83.13482 40.385...   390     1972  0.540\n",
       "\n",
       "[98088 rows x 4 columns]"
      ]
     },
     "execution_count": 3,
     "metadata": {},
     "output_type": "execute_result"
    }
   ],
   "source": [
    "morpcParcels.gdf_from_services(url = parcel_urls['Delaware'], fieldIds=[\"CLASS\",\"YRBUILT\",\"ACRES\"])"
   ]
  },
  {
   "cell_type": "code",
   "execution_count": null,
   "id": "55f5ee86-ce41-4b42-9481-76ffcc1f51b5",
   "metadata": {},
   "outputs": [],
   "source": []
  }
 ],
 "metadata": {
  "jupytext": {
   "formats": "ipynb,py:percent"
  },
  "kernelspec": {
   "display_name": "Python 3 (ipykernel)",
   "language": "python",
   "name": "python3"
  },
  "language_info": {
   "codemirror_mode": {
    "name": "ipython",
    "version": 3
   },
   "file_extension": ".py",
   "mimetype": "text/x-python",
   "name": "python",
   "nbconvert_exporter": "python",
   "pygments_lexer": "ipython3",
   "version": "3.11.7"
  }
 },
 "nbformat": 4,
 "nbformat_minor": 5
}
